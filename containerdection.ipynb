{
 "cells": [
  {
   "cell_type": "code",
   "execution_count": 36,
   "id": "8ea0a9b8",
   "metadata": {},
   "outputs": [],
   "source": [
    "import cv2\n",
    "import numpy as np\n",
    "import sys\n",
    "import matplotlib.pyplot as plt"
   ]
  },
  {
   "cell_type": "code",
   "execution_count": 37,
   "id": "7bfadc8a",
   "metadata": {},
   "outputs": [],
   "source": [
    "def findCenter(approx):\n",
    "    points = np.squeeze(approx)  # (4, 1, 2) ==> (4, 2)\n",
    "    center_x = round(np.mean(points[:, 0])) #컨테이너 중심점 찾기 x좌표\n",
    "    center_y = round(np.mean(points[:, 1])) #컨테이너 중심점 찾기 y좌표\n",
    "    points_center = [center_x, center_y] #컨테이너 중심\n",
    "    \n",
    "    return points_center"
   ]
  },
  {
   "cell_type": "code",
   "execution_count": 46,
   "id": "a92d1af8",
   "metadata": {},
   "outputs": [
    {
     "name": "stdout",
     "output_type": "stream",
     "text": [
      "[458, 240]\n",
      "[313, 231]\n"
     ]
    },
    {
     "data": {
      "image/png": "[encoded data removed]",
      "text/plain": [
       "<Figure size 864x720 with 1 Axes>"
      ]
     },
     "metadata": {
      "needs_background": "light"
     },
     "output_type": "display_data"
    }
   ],
   "source": [
    "src = cv2.imread('container/KakaoTalk_20210630_235147660.png',cv2.IMREAD_COLOR)\n",
    "if src is None:\n",
    "    print('Image load failed!')\n",
    "    sys.exit()\n",
    "\n",
    "height, width, channel = src.shape\n",
    "\n",
    "gray = cv2.cvtColor(src, cv2.COLOR_RGB2GRAY)\n",
    "#laplacian = cv2.Laplacian(gray, cv2.CV_8U, ksize=5)\n",
    "#med=cv2.medianBlur(laplacian, 5, dst=None)\n",
    "\n",
    "ret, binary = cv2.threshold(gray,127, 255,cv2.THRESH_BINARY|cv2.THRESH_OTSU)\n",
    "\n",
    "#cv2.imshow('sc',binary )\n",
    "#cv2.waitKey()\n",
    "#cv2.destroyAllWindows()\n",
    "#print(ret)#T값 출력\n",
    "contours, _ = cv2.findContours(binary ,cv2.RETR_EXTERNAL, cv2.CHAIN_APPROX_NONE)\n",
    "\n",
    "#contours그려보기\n",
    "temp_result = np.zeros((height, width, channel), dtype=np.uint8)\n",
    "\n",
    "contours_dict = []\n",
    "#윤곽선 감싸기\n",
    "for contour in contours:\n",
    "    x, y, w, h = cv2.boundingRect(contour)\n",
    "    cv2.rectangle(temp_result, pt1=(x, y), pt2=(x+w, y+h), color=(255, 255, 255), thickness=2)\n",
    "    \n",
    "    # insert to dict\n",
    "    contours_dict.append({\n",
    "        'contour': contour,\n",
    "        'x': x,\n",
    "        'y': y,\n",
    "        'w': w,\n",
    "        'h': h,\n",
    "        'cx': x + (w / 2),\n",
    "        'cy': y + (h / 2)\n",
    "    })\n",
    "\n",
    "plt.figure(figsize=(12, 10))\n",
    "plt.imshow(temp_result, cmap='gray')\n",
    "i=0\n",
    "\n",
    "for points in contours:\n",
    "    if  (cv2.contourArea(points)<6000 or cv2.contourArea(points)>15000):\n",
    "        continue\n",
    "    approx = cv2.approxPolyDP(points, cv2.arcLength(points, True) * 0.02, True)\n",
    "    if not cv2.isContourConvex(approx) or len(approx) != 4:\n",
    "        continue\n",
    "    cv2.polylines(src, [approx], True, (0, 0, 255), thickness = 3)\n",
    "    #cv2.drawContours(src, contours, -1, (0,255,0), 3)\n",
    "\n",
    "    container_center = findCenter(approx) #컨테이너 중심점 체크\n",
    "    print(container_center) #컨테이너 위치 확인 list형으로 저장됨\n",
    "    if container_center is not None:\n",
    "        cv2.putText(src, str(i+1),findCenter(approx), cv2.FONT_HERSHEY_COMPLEX, 0.8, (0, 255, 0), 1)\n",
    "        i+=1\n",
    "    \n",
    "\n",
    "    \n",
    "cv2.imshow('src', src)\n",
    "cv2.waitKey()\n",
    "cv2.destroyAllWindows()"
   ]
  },
  {
   "cell_type": "code",
   "execution_count": null,
   "id": "33c9cd60",
   "metadata": {},
   "outputs": [],
   "source": []
  },
  {
   "cell_type": "code",
   "execution_count": null,
   "id": "573bbd29",
   "metadata": {},
   "outputs": [],
   "source": []
  }
 ],
 "metadata": {
  "kernelspec": {
   "display_name": "song",
   "language": "python",
   "name": "song"
  },
  "language_info": {
   "codemirror_mode": {
    "name": "ipython",
    "version": 3
   },
   "file_extension": ".py",
   "mimetype": "text/x-python",
   "name": "python",
   "nbconvert_exporter": "python",
   "pygments_lexer": "ipython3",
   "version": "3.8.10"
  }
 },
 "nbformat": 4,
 "nbformat_minor": 5
}
