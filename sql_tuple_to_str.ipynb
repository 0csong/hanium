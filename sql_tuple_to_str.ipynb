{
 "cells": [
  {
   "cell_type": "code",
   "execution_count": 1,
   "id": "6eaf1ea2",
   "metadata": {},
   "outputs": [],
   "source": [
    "import random\n",
    "import numpy as np"
   ]
  },
  {
   "cell_type": "code",
   "execution_count": 2,
   "id": "6c58eaab",
   "metadata": {},
   "outputs": [
    {
     "data": {
      "text/plain": [
       "<pymysql.connections.Connection at 0x22973c84100>"
      ]
     },
     "execution_count": 2,
     "metadata": {},
     "output_type": "execute_result"
    }
   ],
   "source": [
    "import pymysql\n",
    "pymysql.connect(host=\"database-hanium.cijeogglkrqn.ap-northeast-2.rds.amazonaws.com\", \n",
    "                     user=\"admin\", \n",
    "                     password=\"gksdldma1234!\")"
   ]
  },
  {
   "cell_type": "code",
   "execution_count": 3,
   "id": "8ec8eea1",
   "metadata": {},
   "outputs": [],
   "source": [
    "db=pymysql.connect(host=\"database-hanium.cijeogglkrqn.ap-northeast-2.rds.amazonaws.com\", user=\"admin\",password=\"gksdldma1234!\")\n"
   ]
  },
  {
   "cell_type": "code",
   "execution_count": 4,
   "id": "09f14fe1",
   "metadata": {},
   "outputs": [
    {
     "data": {
      "text/plain": [
       "<pymysql.cursors.Cursor at 0x22973e21130>"
      ]
     },
     "execution_count": 4,
     "metadata": {},
     "output_type": "execute_result"
    }
   ],
   "source": [
    "\n",
    "cursor = db.cursor()\n",
    "cursor\n"
   ]
  },
  {
   "cell_type": "code",
   "execution_count": 5,
   "id": "227c2fd3",
   "metadata": {},
   "outputs": [],
   "source": [
    "cursor.connection.commit()\n"
   ]
  },
  {
   "cell_type": "code",
   "execution_count": 6,
   "id": "31df74e5",
   "metadata": {},
   "outputs": [
    {
     "data": {
      "text/plain": [
       "0"
      ]
     },
     "execution_count": 6,
     "metadata": {},
     "output_type": "execute_result"
    }
   ],
   "source": [
    "sql = '''use hanium'''\n",
    "cursor.execute(sql)"
   ]
  },
  {
   "cell_type": "code",
   "execution_count": 7,
   "id": "b201de9a",
   "metadata": {},
   "outputs": [],
   "source": [
    "sql=\"SELECT title FROM `ocr`\"\n",
    "cursor.execute(sql)\n",
    "result = cursor.fetchall()"
   ]
  },
  {
   "cell_type": "code",
   "execution_count": 12,
   "id": "940aaa53",
   "metadata": {},
   "outputs": [
    {
     "name": "stdout",
     "output_type": "stream",
     "text": [
      "(('MSKU_572952[0]_2261',), ('MSKU_572952[0]_2265',))\n",
      "MSKU_572952[0]_2261,MSKU_572952[0]_2265\n",
      "<class 'tuple'>\n",
      "MSKU_572952[0]_2261\n",
      "<class 'tuple'>\n",
      "<class 'str'>\n"
     ]
    }
   ],
   "source": [
    "print(result)\n",
    "print(result[0][0]+','+result[1][0])\n",
    "print(type(result))\n",
    "print(result[0][0])\n",
    "print(type(result))\n",
    "a=result[0][0]\n",
    "print(type(a))"
   ]
  },
  {
   "cell_type": "code",
   "execution_count": null,
   "id": "568440a4",
   "metadata": {},
   "outputs": [],
   "source": [
    "\n"
   ]
  },
  {
   "cell_type": "code",
   "execution_count": null,
   "id": "01f44c97",
   "metadata": {},
   "outputs": [],
   "source": []
  }
 ],
 "metadata": {
  "kernelspec": {
   "display_name": "han",
   "language": "python",
   "name": "han"
  },
  "language_info": {
   "codemirror_mode": {
    "name": "ipython",
    "version": 3
   },
   "file_extension": ".py",
   "mimetype": "text/x-python",
   "name": "python",
   "nbconvert_exporter": "python",
   "pygments_lexer": "ipython3",
   "version": "3.8.8"
  }
 },
 "nbformat": 4,
 "nbformat_minor": 5
}
