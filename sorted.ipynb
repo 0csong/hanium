{
 "cells": [
  {
   "cell_type": "code",
   "execution_count": 1,
   "id": "4931ae71",
   "metadata": {},
   "outputs": [],
   "source": [
    "import random\n",
    "import datetime\n",
    "import numpy as np\n",
    "import copy\n",
    "from datetime import datetime, timedelta\n",
    "import pandas as pd"
   ]
  },
  {
   "cell_type": "code",
   "execution_count": 2,
   "id": "89ef09df",
   "metadata": {},
   "outputs": [],
   "source": [
    "#a=datetime.today() - timedelta(i)#+사전 컨테이너 레이블링\n",
    "#b=a.strftime('%d') \n",
    "# #dictionary = dict(zip(l,r))\n",
    "# #print(dictionary)"
   ]
  },
  {
   "cell_type": "code",
   "execution_count": 17,
   "id": "75207e1a",
   "metadata": {},
   "outputs": [
    {
     "name": "stdout",
     "output_type": "stream",
     "text": [
      "[-100, 1, 2, 3, 4, 5, 6, 7, 8, 9, 10, 11, 12, 13, 14, 15, 16, 17, 18, 19, 20, 21, 22, 23]\n"
     ]
    }
   ],
   "source": [
    "l=[] #원래 컨테이너 빼는 날짜\n",
    "for i in range(23):#length(컨테이너개수)\n",
    "    l.append(i+1)\n",
    "    \n",
    "for i in range(1):#24-length\n",
    "    l.append(-100)\n",
    "    \n",
    "l.sort()\n",
    "print(l)\n",
    "\n"
   ]
  },
  {
   "cell_type": "code",
   "execution_count": 19,
   "id": "c5bee408",
   "metadata": {
    "scrolled": true
   },
   "outputs": [
    {
     "name": "stdout",
     "output_type": "stream",
     "text": [
      "[[[  16.    8. -100.]\n",
      "  [  17.    9.    1.]]\n",
      "\n",
      " [[  18.   10.    2.]\n",
      "  [  19.   11.    3.]]\n",
      "\n",
      " [[  20.   12.    4.]\n",
      "  [  21.   13.    5.]]\n",
      "\n",
      " [[  22.   14.    6.]\n",
      "  [  23.   15.    7.]]]\n"
     ]
    }
   ],
   "source": [
    "p=np.zeros([4,2,3])-100\n",
    "for i in range(24):\n",
    "    if l[i]==-100:\n",
    "        continue \n",
    "    #(0,0-1,y)\n",
    "    elif (l[i]%8)+1==1:\n",
    "        if all(p[0,0,0:]==-100)==True:\n",
    "            p[0][0][0]=l[i]\n",
    "        elif p[0][0][1]==-100 and p[0][0][0]<=l[i]:\n",
    "            p[0][0][1]=p[0][0][0]\n",
    "            p[0][0][0]=l[i]\n",
    "        \n",
    "        elif p[0][0][2]==-100 and p[0][0][1]<=l[i]:\n",
    "            p[0][0][2]=p[0][0][1]\n",
    "            p[0][0][1]=p[0][0][0]\n",
    "            p[0][0][0]=l[i]\n",
    "        else:\n",
    "            print('1구역 다참')\n",
    "                    \n",
    "    elif (l[i]%8)+1==2:\n",
    "        if all(p[0,1,0:]==-100)==True:\n",
    "            p[0][1][0]=l[i]\n",
    "        elif p[0][1][1]==-100 and p[0][1][0]<=l[i]:\n",
    "            p[0][1][1]=p[0][1][0]\n",
    "            p[0][1][0]=l[i]\n",
    "        elif p[0][1][2]==-100 and p[0][1][1]<=l[i]:\n",
    "            p[0][1][2]=p[0][1][1]\n",
    "            p[0][1][1]=p[0][1][0]\n",
    "            p[0][1][0]=l[i]\n",
    "        else:\n",
    "            print('2구역 다참')\n",
    "    #(1,0-1,y)       \n",
    "    elif (l[i]%8)+1==3:\n",
    "        if all(p[1,0,0:]==-100)==True:\n",
    "            p[1][0][0]=l[i]\n",
    "        elif p[1][0][1]==-100 and p[1][0][0]<=l[i]:\n",
    "            p[1][0][1]=p[1][0][0]\n",
    "            p[1][0][0]=l[i]\n",
    "        elif p[1][0][2]==-100 and p[1][0][1]<=l[i]:\n",
    "            p[1][0][2]=p[1][0][1]\n",
    "            p[1][0][1]=p[1][0][0]\n",
    "            p[1][0][0]=l[i]\n",
    "        else:\n",
    "            print('3구역 다참')\n",
    "            \n",
    "    elif (l[i]%8)+1==4:\n",
    "        if all(p[1,1,0:]==-100)==True:\n",
    "            p[1][1][0]=l[i]\n",
    "        elif p[1][1][1]==-100 and p[1][1][0]<=l[i]:\n",
    "            p[1][1][1]=p[1][1][0]\n",
    "            p[1][1][0]=l[i]\n",
    "        elif p[1][1][2]==-100 and p[1][1][1]<=l[i]:\n",
    "            p[1][1][2]=p[1][1][1]\n",
    "            p[1][1][1]=p[1][1][0]\n",
    "            p[1][1][0]=l[i]\n",
    "        else:\n",
    "            print('4구역 다참')\n",
    "    #(2,0-1,y) \n",
    "    elif (l[i]%8)+1==5:\n",
    "        if all(p[2,0,0:]==-100)==True:\n",
    "            p[2][0][0]=l[i]\n",
    "        elif p[2][0][1]==-100 and p[2][0][0]<=l[i]:\n",
    "            p[2][0][1]=p[2][0][0]\n",
    "            p[2][0][0]=l[i]\n",
    "        elif p[2][0][2]==-100 and p[2][0][1]<=l[i]:\n",
    "            p[2][0][2]=p[2][0][1]\n",
    "            p[2][0][1]=p[2][0][0]\n",
    "            p[2][0][0]=l[i]\n",
    "        else:\n",
    "            print('5구역 다참')\n",
    "    elif (l[i]%8)+1==6:         \n",
    "        if all(p[2,1,0:]==-100)==True:\n",
    "            p[2][1][0]=l[i]\n",
    "        elif p[2][1][1]==-100 and p[2][1][0]<=l[i]:\n",
    "            p[2][1][1]=p[2][1][0]\n",
    "            p[2][1][0]=l[i]\n",
    "        elif p[2][1][2]==-100 and p[2][1][1]<=l[i]:\n",
    "            p[2][1][2]=p[2][1][1]\n",
    "            p[2][1][1]=p[2][1][0]\n",
    "            p[2][1][0]=l[i]\n",
    "        else:\n",
    "            print('6구역 다참')\n",
    "    #(3,0-1,y) \n",
    "    elif (l[i]%8)+1==7: \n",
    "        if all(p[3,0,0:]==-100)==True:\n",
    "            p[3][0][0]=l[i]\n",
    "        elif p[3][0][1]==-100 and p[3][0][0]<=l[i]:\n",
    "            p[3][0][1]=p[3][0][0]\n",
    "            p[3][0][0]=l[i]\n",
    "        elif p[3][0][2]==-100 and p[2][0][1]<=l[i]:\n",
    "            p[3][0][2]=p[3][0][1]\n",
    "            p[3][0][1]=p[3][0][0]\n",
    "            p[3][0][0]=l[i]\n",
    "        else:\n",
    "            print('7구역 다참')\n",
    "            \n",
    "    elif (l[i]%8)+1==8:   \n",
    "        if all(p[3,1,0:]==-100)==True:\n",
    "            p[3][1][0]=l[i]\n",
    "        elif p[3][1][1]==-100 and p[3][1][0]<=l[i]:\n",
    "            p[3][1][1]=p[3][1][0]\n",
    "            p[3][1][0]=l[i]\n",
    "        elif p[3][1][2]==-100 and p[3][1][1]<=l[i]:\n",
    "            p[3][1][2]=p[3][1][1]\n",
    "            p[3][1][1]=p[3][1][0]\n",
    "            p[3][1][0]=l[i]\n",
    "        else:\n",
    "            print('8구역 다참')\n",
    "            \n",
    "print(p)"
   ]
  },
  {
   "cell_type": "code",
   "execution_count": null,
   "id": "ec187d1a",
   "metadata": {},
   "outputs": [],
   "source": []
  }
 ],
 "metadata": {
  "kernelspec": {
   "display_name": "han",
   "language": "python",
   "name": "han"
  },
  "language_info": {
   "codemirror_mode": {
    "name": "ipython",
    "version": 3
   },
   "file_extension": ".py",
   "mimetype": "text/x-python",
   "name": "python",
   "nbconvert_exporter": "python",
   "pygments_lexer": "ipython3",
   "version": "3.8.8"
  }
 },
 "nbformat": 4,
 "nbformat_minor": 5
}
