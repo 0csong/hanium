{
 "cells": [
  {
   "cell_type": "code",
   "execution_count": 87,
   "id": "4931ae71",
   "metadata": {},
   "outputs": [],
   "source": [
    "import random\n",
    "import datetime\n",
    "import numpy as np\n",
    "import copy\n",
    "from datetime import datetime, timedelta\n",
    "import pandas as pd"
   ]
  },
  {
   "cell_type": "code",
   "execution_count": 100,
   "id": "89ef09df",
   "metadata": {},
   "outputs": [
    {
     "name": "stdout",
     "output_type": "stream",
     "text": [
      "[0, 0, 0, 0, 0, 0, 0, 0, 0, 0, 0, 0, 0, 0, 4, 10, 13, 17, 18, 23, 23, 24, 28, 30]\n",
      "[0, 0, 0, 0, 0, 0, 0, 0, 0, 0, 0, 0, 0, 0, 5, 3, 6, 2, 3, 8, 8, 1, 5, 7]\n",
      "{0: 0, 4: 5, 10: 3, 13: 6, 17: 2, 18: 3, 23: 8, 24: 1, 28: 5, 30: 7}\n"
     ]
    }
   ],
   "source": [
    "# p=np.zeros([4,2,3])\n",
    "# l=[] #원래 컨테이너 빼는 날짜\n",
    "# r=[0 for i in range(24)]\n",
    "# for i in range(10):#length(컨테이너개수)\n",
    "#     #a=datetime.today() - timedelta(i)#+사전 컨테이너 레이블링\n",
    "#     #b=a.strftime('%d') \n",
    "#     l.append(random.randint(1,30))\n",
    "    \n",
    "# for i in range(14):#24-length\n",
    "#     l.append(0)\n",
    "\n",
    "# l.sort()\n",
    "# print(l)\n",
    "# #b=np.array(l)\n",
    "# #c=b.reshape(4,2,3)\n",
    "# # for i in range(24):\n",
    "# #     if l[i]==0:\n",
    "# #         r[i]=0\n",
    "# #     else:\n",
    "# #         r[i]=(l[i]%8)+1\n",
    "# # print(r)\n",
    "# #dictionary = dict(zip(l,r))\n",
    "# #print(dictionary)\n",
    "# for i in range(24):\n",
    "#     if l[i]==0:\n",
    "#         continue\n",
    "#     elif (l[i]%8)+1==1:"
   ]
  },
  {
   "cell_type": "code",
   "execution_count": 122,
   "id": "22cab177",
   "metadata": {},
   "outputs": [
    {
     "name": "stdout",
     "output_type": "stream",
     "text": [
      "[[[0. 0. 0.]\n",
      "  [0. 0. 0.]]\n",
      "\n",
      " [[0. 0. 0.]\n",
      "  [0. 0. 0.]]\n",
      "\n",
      " [[0. 0. 0.]\n",
      "  [0. 0. 0.]]\n",
      "\n",
      " [[0. 0. 0.]\n",
      "  [0. 0. 0.]]]\n",
      "[0, 0, 0, 0, 0, 0, 0, 0, 0, 0, 0, 0, 0, 0, 3, 6, 8, 10, 13, 15, 18, 26, 26, 29]\n",
      "------------------------------------------\n"
     ]
    }
   ],
   "source": [
    "p=np.zeros([4,2,3])\n",
    "print(p)\n",
    "l=[] #원래 컨테이너 빼는 날짜\n",
    "for i in range(10):#length(컨테이너개수)\n",
    "    l.append(random.randint(1,30))\n",
    "    \n",
    "for i in range(14):#24-length\n",
    "    l.append(0)\n",
    "    \n",
    "l.sort()\n",
    "print(l)\n",
    "print('------------------------------------------')"
   ]
  },
  {
   "cell_type": "code",
   "execution_count": 123,
   "id": "749c28bf",
   "metadata": {},
   "outputs": [
    {
     "name": "stdout",
     "output_type": "stream",
     "text": [
      "[[[ 8.  0.  0.]\n",
      "  [ 0.  0.  0.]]\n",
      "\n",
      " [[26.  0.  0.]\n",
      "  [ 3.  0.  0.]]\n",
      "\n",
      " [[ 0.  0.  0.]\n",
      "  [29.  0.  0.]]\n",
      "\n",
      " [[ 6.  0.  0.]\n",
      "  [15.  0.  0.]]]\n"
     ]
    }
   ],
   "source": [
    "for i in range(24):\n",
    "    if l[i]==0:\n",
    "        continue \n",
    "    #(0,0-1,y)\n",
    "    elif (l[i]%8)+1==1:\n",
    "        if all(p[0,0,0:2])==0:\n",
    "            p[0][0][0]=l[i]\n",
    "        \n",
    "    elif (l[i]%8)+1==2:\n",
    "        if all(p[0,1,0:2])==0:\n",
    "            p[0][1][0]=l[i]\n",
    "    #(1,0-1,y)       \n",
    "    elif (l[i]%8)+1==3:\n",
    "        if all(p[1,0,0:2])==0:\n",
    "            p[1][0][0]=l[i]\n",
    "            \n",
    "    elif (l[i]%8)+1==4:\n",
    "        if all(p[1,1,0:2])==0:\n",
    "            p[1][1][0]=l[i]\n",
    "    #(2,0-1,y) \n",
    "    elif (l[i]%8)+1==5:\n",
    "        if all(p[2,0,0:2])==0:\n",
    "            p[2][0][0]=l[i]\n",
    "    elif (l[i]%8)+1==6:         \n",
    "        if all(p[2,1,0:2])==0:\n",
    "            p[2][1][0]=l[i]\n",
    "    #(3,0-1,y) \n",
    "    elif (l[i]%8)+1==7: \n",
    "        if all(p[3,0,0:2])==0:\n",
    "            p[3][0][0]=l[i]\n",
    "            \n",
    "    elif (l[i]%8)+1==8:   \n",
    "        if all(p[3,1,0:2])==0:\n",
    "            p[3][1][0]=l[i]\n",
    "            \n",
    "print(p)\n",
    "        "
   ]
  },
  {
   "cell_type": "code",
   "execution_count": null,
   "id": "4a06a1bd",
   "metadata": {},
   "outputs": [],
   "source": []
  }
 ],
 "metadata": {
  "kernelspec": {
   "display_name": "han",
   "language": "python",
   "name": "han"
  },
  "language_info": {
   "codemirror_mode": {
    "name": "ipython",
    "version": 3
   },
   "file_extension": ".py",
   "mimetype": "text/x-python",
   "name": "python",
   "nbconvert_exporter": "python",
   "pygments_lexer": "ipython3",
   "version": "3.8.8"
  }
 },
 "nbformat": 4,
 "nbformat_minor": 5
}
