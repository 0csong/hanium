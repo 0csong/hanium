{
 "cells": [
  {
   "cell_type": "code",
   "execution_count": 154,
   "id": "4931ae71",
   "metadata": {},
   "outputs": [],
   "source": [
    "import heapq\n",
    "import random\n",
    "import datetime\n",
    "import numpy as np\n",
    "import copy\n",
    "from datetime import datetime, timedelta"
   ]
  },
  {
   "cell_type": "code",
   "execution_count": 155,
   "id": "739b8c3b",
   "metadata": {
    "scrolled": true
   },
   "outputs": [],
   "source": [
    "\n",
    "    "
   ]
  },
  {
   "cell_type": "code",
   "execution_count": 156,
   "id": "40feb495",
   "metadata": {},
   "outputs": [
    {
     "name": "stdout",
     "output_type": "stream",
     "text": [
      "[1, 2, 3, 4, 5]\n"
     ]
    }
   ],
   "source": []
  },
  {
   "cell_type": "code",
   "execution_count": 163,
   "id": "1f070f63",
   "metadata": {},
   "outputs": [
    {
     "name": "stdout",
     "output_type": "stream",
     "text": [
      "[0, 0, 0, 0, 20210701, 20210702, 20210703, 20210704, 20210705, 20210706, 20210707, 20210708, 20210709, 20210710, 20210711, 20210712, 20210713, 20210714, 20210715, 20210716, 20210717, 20210718, 20210719, 20210720]\n",
      "[[[       0        0        0        0]\n",
      "  [20210701 20210702 20210703 20210704]\n",
      "  [20210705 20210706 20210707 20210708]]\n",
      "\n",
      " [[20210709 20210710 20210711 20210712]\n",
      "  [20210713 20210714 20210715 20210716]\n",
      "  [20210717 20210718 20210719 20210720]]]\n",
      "20210702\n"
     ]
    }
   ],
   "source": [
    "#날짜 순 \n",
    "#출고날짜와 컨테이너 라벨링링을 합침(컨테이너 라벨링은 리스트로 되어있음)\n",
    "#정렬된 heap에서 정렬하면 끝!\n",
    "p=[]\n",
    "for i in range(20):#length(컨테이너개수)\n",
    "    a=datetime.today() - timedelta(i)#+사전 컨테이너 레이블링\n",
    "    b=a.strftime('%Y%m%d') \n",
    "    b=int(b)\n",
    "    p.append(b)\n",
    "    \n",
    "for i in range(4):#24-length\n",
    "    p.append(0)\n",
    "\n",
    "p.sort()\n",
    "print(p)\n",
    "\n",
    "p=np.array(p)\n",
    "b=p.reshape(2,3,4)\n",
    "print(b)\n",
    "print(b[0][1][1])\n",
    "#예외 제일최근 날짜인데 빈공간있으면 그곳으로 넣는게 이득\n"
   ]
  },
  {
   "cell_type": "code",
   "execution_count": 168,
   "id": "89ef09df",
   "metadata": {},
   "outputs": [
    {
     "name": "stdout",
     "output_type": "stream",
     "text": [
      "[0, 0, 0, 20210704, 0, 20210707, 20210708, 20210711, 20210705, 20210703, 20210701, 20210710, 20210715, 20210716, 20210709, 20210720, 20210714, 20210717, 20210706, 20210718, 20210712, 20210713, 20210702, 20210719]\n",
      "[[[       0        0        0 20210704]\n",
      "  [       0 20210707 20210708 20210711]\n",
      "  [20210705 20210703 20210701 20210710]]\n",
      "\n",
      " [[20210715 20210716 20210709 20210720]\n",
      "  [20210714 20210717 20210706 20210718]\n",
      "  [20210712 20210713 20210702 20210719]]]\n"
     ]
    }
   ],
   "source": [
    "#히프로받아서 3차원배열로 변환후 \n",
    "heap=[]\n",
    "for i in range(20):#length(컨테이너개수)\n",
    "    a=datetime.today() - timedelta(i)#+사전 컨테이너 레이블링\n",
    "    b=a.strftime('%Y%m%d') \n",
    "    b=int(b)\n",
    "    heapq.heappush(heap,b)\n",
    "    \n",
    "for i in range(4):#24-length\n",
    "    heapq.heappush(heap,0)\n",
    "print(heap)\n",
    "a=np.array(heap)\n",
    "b=a.reshape(2,3,4)\n",
    "print(b)"
   ]
  },
  {
   "cell_type": "code",
   "execution_count": null,
   "id": "9fca1075",
   "metadata": {},
   "outputs": [],
   "source": []
  }
 ],
 "metadata": {
  "kernelspec": {
   "display_name": "han",
   "language": "python",
   "name": "han"
  },
  "language_info": {
   "codemirror_mode": {
    "name": "ipython",
    "version": 3
   },
   "file_extension": ".py",
   "mimetype": "text/x-python",
   "name": "python",
   "nbconvert_exporter": "python",
   "pygments_lexer": "ipython3",
   "version": "3.8.8"
  }
 },
 "nbformat": 4,
 "nbformat_minor": 5
}
