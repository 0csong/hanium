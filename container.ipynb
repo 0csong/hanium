{
 "cells": [
  {
   "cell_type": "code",
   "execution_count": 111,
   "id": "8ea0a9b8",
   "metadata": {},
   "outputs": [],
   "source": [
    "import cv2\n",
    "import numpy as np\n",
    "import sys"
   ]
  },
  {
   "cell_type": "code",
   "execution_count": 112,
   "id": "7bfadc8a",
   "metadata": {},
   "outputs": [],
   "source": [
    "def findCenter(approx):\n",
    "    points = np.squeeze(approx)  # (4, 1, 2) ==> (4, 2)\n",
    "    center_x = round(np.mean(points[:, 0])) #컨테이너 중심점 찾기 x좌표\n",
    "    center_y = round(np.mean(points[:, 1])) #컨테이너 중심점 찾기 y좌표\n",
    "    points_center = [center_x, center_y] #컨테이너 중심\n",
    "    \n",
    "    return points_center"
   ]
  },
  {
   "cell_type": "code",
   "execution_count": 158,
   "id": "a92d1af8",
   "metadata": {},
   "outputs": [
    {
     "name": "stdout",
     "output_type": "stream",
     "text": [
      "130.0\n",
      "[458, 240]\n",
      "[313, 231]\n"
     ]
    }
   ],
   "source": [
    "src = cv2.imread('container/KakaoTalk_20210630_235147660.png',cv2.IMREAD_COLOR)\n",
    "if src is None:\n",
    "    print('Image load failed!')\n",
    "    sys.exit()\n",
    "\n",
    "gray = cv2.cvtColor(src, cv2.COLOR_RGB2GRAY)\n",
    "ret, binary = cv2.threshold(gray,127, 255,cv2.THRESH_BINARY|cv2.THRESH_OTSU)\n",
    "    \n",
    "#cv2.imshow('sc',binary )\n",
    "#cv2.waitKey('q')\n",
    "#cv2.destroyAllWindows()\n",
    "print(ret)#T값 출력\n",
    "contours, _ = cv2.findContours(binary,cv2.RETR_EXTERNAL, cv2.CHAIN_APPROX_NONE)\n",
    "i=0\n",
    "for points in contours:\n",
    "    if  (cv2.contourArea(points)<1500 or cv2.contourArea(points)>15000):\n",
    "        continue\n",
    "    approx = cv2.approxPolyDP(points, cv2.arcLength(points, True) * 0.02, True)\n",
    "    if not cv2.isContourConvex(approx) or len(approx) != 4:\n",
    "        continue\n",
    "    cv2.polylines(src, [approx], True, (0, 0, 255), thickness = 3)\n",
    "    container_center = findCenter(approx) #컨테이너 중심점 체크\n",
    "    print(container_center) #컨테이너 위치 확인 list형으로 저장됨\n",
    "    if container_center is not None:\n",
    "        cv2.putText(src, str(i+1),findCenter(approx), cv2.FONT_HERSHEY_COMPLEX, 0.8, (0, 255, 0), 1)\n",
    "        i+=1\n",
    "    \n",
    "\n",
    "    \n",
    "cv2.imshow('src', src)\n",
    "cv2.waitKey('q')\n",
    "cv2.destroyAllWindows()"
   ]
  },
  {
   "cell_type": "code",
   "execution_count": null,
   "id": "33c9cd60",
   "metadata": {},
   "outputs": [],
   "source": []
  },
  {
   "cell_type": "code",
   "execution_count": null,
   "id": "573bbd29",
   "metadata": {},
   "outputs": [],
   "source": []
  }
 ],
 "metadata": {
  "kernelspec": {
   "display_name": "song",
   "language": "python",
   "name": "song"
  },
  "language_info": {
   "codemirror_mode": {
    "name": "ipython",
    "version": 3
   },
   "file_extension": ".py",
   "mimetype": "text/x-python",
   "name": "python",
   "nbconvert_exporter": "python",
   "pygments_lexer": "ipython3",
   "version": "3.8.10"
  }
 },
 "nbformat": 4,
 "nbformat_minor": 5
}
