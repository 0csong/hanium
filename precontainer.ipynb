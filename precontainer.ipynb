{
  "nbformat": 4,
  "nbformat_minor": 0,
  "metadata": {
    "colab": {
      "name": "container.ipynb",
      "provenance": [],
      "collapsed_sections": []
    },
    "kernelspec": {
      "name": "python3",
      "display_name": "Python 3"
    },
    "language_info": {
      "name": "python"
    },
    "accelerator": "GPU"
  },
  "cells": [
    {
      "cell_type": "markdown",
      "metadata": {
        "id": "c3yDj1xyDAFC"
      },
      "source": [
        "# 새 섹션"
      ]
    },
    {
      "cell_type": "code",
      "metadata": {
        "colab": {
          "base_uri": "https://localhost:8080/"
        },
        "id": "vcenV8xo7zK_",
        "outputId": "8e03ce76-fc91-451f-88c8-a1890b7a7e63"
      },
      "source": [
        "from google.colab import drive\n",
        "drive.mount('/content/gdrive')"
      ],
      "execution_count": null,
      "outputs": [
        {
          "output_type": "stream",
          "name": "stdout",
          "text": [
            "Mounted at /content/gdrive\n"
          ]
        }
      ]
    },
    {
      "cell_type": "code",
      "metadata": {
        "id": "FDjn0iHc77AH"
      },
      "source": [
        "import pandas as pd\n",
        "import numpy as np\n",
        "import matplotlib.pyplot as plt\n",
        "from keras.models import Sequential\n",
        "from keras.layers import Dense, SimpleRNN, Activation\n",
        "from keras import optimizers\n",
        "from keras.layers import LSTM, Dropout, Dense, Activation\n",
        "from keras.callbacks import TensorBoard, ModelCheckpoint, ReduceLROnPlateau\n",
        "from keras.wrappers.scikit_learn import KerasClassifier\n",
        "from keras.layers import Bidirectional\n",
        "import keras\n",
        "import datetime\n"
      ],
      "execution_count": null,
      "outputs": []
    },
    {
      "cell_type": "code",
      "metadata": {
        "colab": {
          "base_uri": "https://localhost:8080/",
          "height": 203
        },
        "id": "W6rt4-ZZ77CY",
        "outputId": "b5eb7af2-7685-48ae-c68c-0d36543dd0fa"
      },
      "source": [
        "data = pd.read_csv('/content/gdrive/MyDrive/Colab Notebooks/containertotal.csv')\n",
        "data.head()"
      ],
      "execution_count": null,
      "outputs": [
        {
          "output_type": "execute_result",
          "data": {
            "text/html": [
              "<div>\n",
              "<style scoped>\n",
              "    .dataframe tbody tr th:only-of-type {\n",
              "        vertical-align: middle;\n",
              "    }\n",
              "\n",
              "    .dataframe tbody tr th {\n",
              "        vertical-align: top;\n",
              "    }\n",
              "\n",
              "    .dataframe thead th {\n",
              "        text-align: right;\n",
              "    }\n",
              "</style>\n",
              "<table border=\"1\" class=\"dataframe\">\n",
              "  <thead>\n",
              "    <tr style=\"text-align: right;\">\n",
              "      <th></th>\n",
              "      <th>useYm</th>\n",
              "      <th>total</th>\n",
              "      <th>eContnTeuTotal</th>\n",
              "    </tr>\n",
              "  </thead>\n",
              "  <tbody>\n",
              "    <tr>\n",
              "      <th>0</th>\n",
              "      <td>201101</td>\n",
              "      <td>1114700</td>\n",
              "      <td>NaN</td>\n",
              "    </tr>\n",
              "    <tr>\n",
              "      <th>1</th>\n",
              "      <td>201102</td>\n",
              "      <td>955254</td>\n",
              "      <td>NaN</td>\n",
              "    </tr>\n",
              "    <tr>\n",
              "      <th>2</th>\n",
              "      <td>201103</td>\n",
              "      <td>1279939</td>\n",
              "      <td>NaN</td>\n",
              "    </tr>\n",
              "    <tr>\n",
              "      <th>3</th>\n",
              "      <td>201104</td>\n",
              "      <td>1237088</td>\n",
              "      <td>NaN</td>\n",
              "    </tr>\n",
              "    <tr>\n",
              "      <th>4</th>\n",
              "      <td>201105</td>\n",
              "      <td>1273897</td>\n",
              "      <td>NaN</td>\n",
              "    </tr>\n",
              "  </tbody>\n",
              "</table>\n",
              "</div>"
            ],
            "text/plain": [
              "    useYm    total  eContnTeuTotal\n",
              "0  201101  1114700             NaN\n",
              "1  201102   955254             NaN\n",
              "2  201103  1279939             NaN\n",
              "3  201104  1237088             NaN\n",
              "4  201105  1273897             NaN"
            ]
          },
          "metadata": {},
          "execution_count": 6
        }
      ]
    },
    {
      "cell_type": "code",
      "metadata": {
        "id": "RJs0RnCxDNfu"
      },
      "source": [
        "containers=data['total'].values"
      ],
      "execution_count": null,
      "outputs": []
    },
    {
      "cell_type": "code",
      "metadata": {
        "id": "kbuP5S7077Ew"
      },
      "source": [
        "seq_len = 6\n",
        "sequence_length = seq_len + 1\n",
        "\n",
        "result = []\n",
        "for index in range(len(containers) - sequence_length):\n",
        "    result.append(containers[index: index + sequence_length])"
      ],
      "execution_count": null,
      "outputs": []
    },
    {
      "cell_type": "code",
      "metadata": {
        "id": "pyHOKVOi77HR",
        "colab": {
          "base_uri": "https://localhost:8080/"
        },
        "outputId": "e8eab031-602d-451e-ddf3-345a0c4fedb2"
      },
      "source": [
        "normalized_data = []\n",
        "for window in result:\n",
        "    normalized_window = [((float(p) / float(window[0])) - 1) for p in window]\n",
        "    normalized_data.append(normalized_window)\n",
        "\n",
        "result = np.array(normalized_data)\n",
        "\n",
        "# split train and test data\n",
        "row = int(round(result.shape[0] * 0.9))\n",
        "train = result[:row, :]\n",
        "np.random.shuffle(train)\n",
        "\n",
        "x_train = train[:, :-1]\n",
        "x_train = np.reshape(x_train, (x_train.shape[0], x_train.shape[1], 1))\n",
        "y_train = train[:, -1]\n",
        "\n",
        "x_test = result[row:, :-1]\n",
        "x_test = np.reshape(x_test, (x_test.shape[0], x_test.shape[1], 1))\n",
        "y_test = result[row:, -1]\n",
        "\n",
        "x_train.shape, x_test.shape"
      ],
      "execution_count": null,
      "outputs": [
        {
          "output_type": "execute_result",
          "data": {
            "text/plain": [
              "((102, 6, 1), (11, 6, 1))"
            ]
          },
          "metadata": {},
          "execution_count": 174
        }
      ]
    },
    {
      "cell_type": "code",
      "metadata": {
        "colab": {
          "base_uri": "https://localhost:8080/"
        },
        "id": "qoUAkiRf4a9K",
        "outputId": "3c282225-c5b1-478a-80d8-b025c3e39cb2"
      },
      "source": [
        "# model = Sequential()\n",
        "\n",
        "# model.add(LSTM(50, return_sequences=True, input_shape=(6, 1)))\n",
        "\n",
        "# model.add(LSTM(64, return_sequences=True))\n",
        "\n",
        "# model.add(LSTM(64, return_sequences=False))\n",
        "\n",
        "# model.add(Dense(1, activation='linear'))\n",
        "\n",
        "# model.compile(loss='mse', optimizer='Adam')\n",
        "\n",
        "# model.summary()\n",
        "model = Sequential()\n",
        "\n",
        "model.add(Bidirectional(LSTM(40, return_sequences = True), input_shape = (6,1)))\n",
        "model.add(Bidirectional(LSTM(80, return_sequences = True,dropout=0.3)))\n",
        "model.add(Bidirectional(LSTM(80, return_sequences = False,dropout=0.3)))\n",
        "model.add(Dense(1,activation='ELU'))\n",
        "\n",
        "model.compile(loss = 'MSE', optimizer='Adam', metrics = ['accuracy'])\n",
        "model.summary()"
      ],
      "execution_count": null,
      "outputs": [
        {
          "output_type": "stream",
          "name": "stdout",
          "text": [
            "Model: \"sequential_55\"\n",
            "_________________________________________________________________\n",
            "Layer (type)                 Output Shape              Param #   \n",
            "=================================================================\n",
            "bidirectional_115 (Bidirecti (None, 6, 80)             13440     \n",
            "_________________________________________________________________\n",
            "bidirectional_116 (Bidirecti (None, 6, 160)            103040    \n",
            "_________________________________________________________________\n",
            "bidirectional_117 (Bidirecti (None, 160)               154240    \n",
            "_________________________________________________________________\n",
            "dense_48 (Dense)             (None, 1)                 161       \n",
            "=================================================================\n",
            "Total params: 270,881\n",
            "Trainable params: 270,881\n",
            "Non-trainable params: 0\n",
            "_________________________________________________________________\n"
          ]
        }
      ]
    },
    {
      "cell_type": "code",
      "metadata": {
        "id": "uMuFz_m-77Oy",
        "colab": {
          "base_uri": "https://localhost:8080/"
        },
        "outputId": "7b48444e-2513-41cb-bd85-4c23bf80b3b8"
      },
      "source": [
        "start_time = datetime.datetime.now().strftime('%Y_%m_%d_%H_%M_%S')\n",
        "\n",
        "model.fit(x_train, y_train,\n",
        "    validation_data=(x_test, y_test),\n",
        "    batch_size=6,\n",
        "    epochs=50,\n",
        "    callbacks=[\n",
        "        TensorBoard(log_dir='logs/%s' % (start_time)),\n",
        "        ModelCheckpoint('./models/%s_eth.h5' % (start_time), monitor='val_loss', verbose=1, save_best_only=True, mode='auto'),\n",
        "        ReduceLROnPlateau(monitor='val_loss', factor=0.2, patience=5, verbose=1, mode='auto')\n",
        "])"
      ],
      "execution_count": null,
      "outputs": [
        {
          "output_type": "stream",
          "name": "stdout",
          "text": [
            "Epoch 1/50\n",
            "17/17 [==============================] - 11s 210ms/step - loss: 0.0039 - accuracy: 0.0000e+00 - val_loss: 0.0055 - val_accuracy: 0.0000e+00\n",
            "\n",
            "Epoch 00001: val_loss improved from inf to 0.00552, saving model to ./models/2021_10_13_09_55_43_eth.h5\n",
            "Epoch 2/50\n",
            "17/17 [==============================] - 0s 20ms/step - loss: 0.0032 - accuracy: 0.0000e+00 - val_loss: 0.0053 - val_accuracy: 0.0000e+00\n",
            "\n",
            "Epoch 00002: val_loss improved from 0.00552 to 0.00534, saving model to ./models/2021_10_13_09_55_43_eth.h5\n",
            "Epoch 3/50\n",
            "17/17 [==============================] - 0s 20ms/step - loss: 0.0029 - accuracy: 0.0000e+00 - val_loss: 0.0044 - val_accuracy: 0.0000e+00\n",
            "\n",
            "Epoch 00003: val_loss improved from 0.00534 to 0.00436, saving model to ./models/2021_10_13_09_55_43_eth.h5\n",
            "Epoch 4/50\n",
            "17/17 [==============================] - 0s 19ms/step - loss: 0.0030 - accuracy: 0.0000e+00 - val_loss: 0.0045 - val_accuracy: 0.0000e+00\n",
            "\n",
            "Epoch 00004: val_loss did not improve from 0.00436\n",
            "Epoch 5/50\n",
            "17/17 [==============================] - 0s 18ms/step - loss: 0.0030 - accuracy: 0.0000e+00 - val_loss: 0.0049 - val_accuracy: 0.0000e+00\n",
            "\n",
            "Epoch 00005: val_loss did not improve from 0.00436\n",
            "Epoch 6/50\n",
            "17/17 [==============================] - 0s 19ms/step - loss: 0.0029 - accuracy: 0.0000e+00 - val_loss: 0.0042 - val_accuracy: 0.0000e+00\n",
            "\n",
            "Epoch 00006: val_loss improved from 0.00436 to 0.00422, saving model to ./models/2021_10_13_09_55_43_eth.h5\n",
            "Epoch 7/50\n",
            "17/17 [==============================] - 0s 20ms/step - loss: 0.0029 - accuracy: 0.0000e+00 - val_loss: 0.0056 - val_accuracy: 0.0000e+00\n",
            "\n",
            "Epoch 00007: val_loss did not improve from 0.00422\n",
            "Epoch 8/50\n",
            "17/17 [==============================] - 0s 19ms/step - loss: 0.0036 - accuracy: 0.0000e+00 - val_loss: 0.0055 - val_accuracy: 0.0000e+00\n",
            "\n",
            "Epoch 00008: val_loss did not improve from 0.00422\n",
            "Epoch 9/50\n",
            "17/17 [==============================] - 0s 20ms/step - loss: 0.0031 - accuracy: 0.0000e+00 - val_loss: 0.0043 - val_accuracy: 0.0000e+00\n",
            "\n",
            "Epoch 00009: val_loss did not improve from 0.00422\n",
            "Epoch 10/50\n",
            "17/17 [==============================] - 0s 19ms/step - loss: 0.0030 - accuracy: 0.0000e+00 - val_loss: 0.0045 - val_accuracy: 0.0000e+00\n",
            "\n",
            "Epoch 00010: val_loss did not improve from 0.00422\n",
            "Epoch 11/50\n",
            "17/17 [==============================] - 0s 18ms/step - loss: 0.0032 - accuracy: 0.0000e+00 - val_loss: 0.0053 - val_accuracy: 0.0000e+00\n",
            "\n",
            "Epoch 00011: val_loss did not improve from 0.00422\n",
            "\n",
            "Epoch 00011: ReduceLROnPlateau reducing learning rate to 0.00020000000949949026.\n",
            "Epoch 12/50\n",
            "17/17 [==============================] - 0s 19ms/step - loss: 0.0030 - accuracy: 0.0000e+00 - val_loss: 0.0045 - val_accuracy: 0.0000e+00\n",
            "\n",
            "Epoch 00012: val_loss did not improve from 0.00422\n",
            "Epoch 13/50\n",
            "17/17 [==============================] - 0s 18ms/step - loss: 0.0028 - accuracy: 0.0000e+00 - val_loss: 0.0046 - val_accuracy: 0.0000e+00\n",
            "\n",
            "Epoch 00013: val_loss did not improve from 0.00422\n",
            "Epoch 14/50\n",
            "17/17 [==============================] - 0s 19ms/step - loss: 0.0028 - accuracy: 0.0000e+00 - val_loss: 0.0045 - val_accuracy: 0.0000e+00\n",
            "\n",
            "Epoch 00014: val_loss did not improve from 0.00422\n",
            "Epoch 15/50\n",
            "17/17 [==============================] - 0s 20ms/step - loss: 0.0028 - accuracy: 0.0000e+00 - val_loss: 0.0046 - val_accuracy: 0.0000e+00\n",
            "\n",
            "Epoch 00015: val_loss did not improve from 0.00422\n",
            "Epoch 16/50\n",
            "17/17 [==============================] - 0s 19ms/step - loss: 0.0028 - accuracy: 0.0000e+00 - val_loss: 0.0046 - val_accuracy: 0.0000e+00\n",
            "\n",
            "Epoch 00016: val_loss did not improve from 0.00422\n",
            "\n",
            "Epoch 00016: ReduceLROnPlateau reducing learning rate to 4.0000001899898055e-05.\n",
            "Epoch 17/50\n",
            "17/17 [==============================] - 0s 20ms/step - loss: 0.0028 - accuracy: 0.0000e+00 - val_loss: 0.0045 - val_accuracy: 0.0000e+00\n",
            "\n",
            "Epoch 00017: val_loss did not improve from 0.00422\n",
            "Epoch 18/50\n",
            "17/17 [==============================] - 0s 19ms/step - loss: 0.0028 - accuracy: 0.0000e+00 - val_loss: 0.0045 - val_accuracy: 0.0000e+00\n",
            "\n",
            "Epoch 00018: val_loss did not improve from 0.00422\n",
            "Epoch 19/50\n",
            "17/17 [==============================] - 0s 20ms/step - loss: 0.0028 - accuracy: 0.0000e+00 - val_loss: 0.0045 - val_accuracy: 0.0000e+00\n",
            "\n",
            "Epoch 00019: val_loss did not improve from 0.00422\n",
            "Epoch 20/50\n",
            "17/17 [==============================] - 0s 20ms/step - loss: 0.0028 - accuracy: 0.0000e+00 - val_loss: 0.0045 - val_accuracy: 0.0000e+00\n",
            "\n",
            "Epoch 00020: val_loss did not improve from 0.00422\n",
            "Epoch 21/50\n",
            "17/17 [==============================] - 0s 21ms/step - loss: 0.0028 - accuracy: 0.0000e+00 - val_loss: 0.0045 - val_accuracy: 0.0000e+00\n",
            "\n",
            "Epoch 00021: val_loss did not improve from 0.00422\n",
            "\n",
            "Epoch 00021: ReduceLROnPlateau reducing learning rate to 8.000000525498762e-06.\n",
            "Epoch 22/50\n",
            "17/17 [==============================] - 0s 19ms/step - loss: 0.0028 - accuracy: 0.0000e+00 - val_loss: 0.0045 - val_accuracy: 0.0000e+00\n",
            "\n",
            "Epoch 00022: val_loss did not improve from 0.00422\n",
            "Epoch 23/50\n",
            "17/17 [==============================] - 0s 19ms/step - loss: 0.0028 - accuracy: 0.0000e+00 - val_loss: 0.0045 - val_accuracy: 0.0000e+00\n",
            "\n",
            "Epoch 00023: val_loss did not improve from 0.00422\n",
            "Epoch 24/50\n",
            "17/17 [==============================] - 0s 19ms/step - loss: 0.0028 - accuracy: 0.0000e+00 - val_loss: 0.0045 - val_accuracy: 0.0000e+00\n",
            "\n",
            "Epoch 00024: val_loss did not improve from 0.00422\n",
            "Epoch 25/50\n",
            "17/17 [==============================] - 0s 21ms/step - loss: 0.0028 - accuracy: 0.0000e+00 - val_loss: 0.0045 - val_accuracy: 0.0000e+00\n",
            "\n",
            "Epoch 00025: val_loss did not improve from 0.00422\n",
            "Epoch 26/50\n",
            "17/17 [==============================] - 0s 19ms/step - loss: 0.0028 - accuracy: 0.0000e+00 - val_loss: 0.0045 - val_accuracy: 0.0000e+00\n",
            "\n",
            "Epoch 00026: val_loss did not improve from 0.00422\n",
            "\n",
            "Epoch 00026: ReduceLROnPlateau reducing learning rate to 1.6000001778593287e-06.\n",
            "Epoch 27/50\n",
            "17/17 [==============================] - 0s 20ms/step - loss: 0.0028 - accuracy: 0.0000e+00 - val_loss: 0.0045 - val_accuracy: 0.0000e+00\n",
            "\n",
            "Epoch 00027: val_loss did not improve from 0.00422\n",
            "Epoch 28/50\n",
            "17/17 [==============================] - 0s 20ms/step - loss: 0.0028 - accuracy: 0.0000e+00 - val_loss: 0.0045 - val_accuracy: 0.0000e+00\n",
            "\n",
            "Epoch 00028: val_loss did not improve from 0.00422\n",
            "Epoch 29/50\n",
            "17/17 [==============================] - 0s 18ms/step - loss: 0.0028 - accuracy: 0.0000e+00 - val_loss: 0.0045 - val_accuracy: 0.0000e+00\n",
            "\n",
            "Epoch 00029: val_loss did not improve from 0.00422\n",
            "Epoch 30/50\n",
            "17/17 [==============================] - 0s 19ms/step - loss: 0.0028 - accuracy: 0.0000e+00 - val_loss: 0.0045 - val_accuracy: 0.0000e+00\n",
            "\n",
            "Epoch 00030: val_loss did not improve from 0.00422\n",
            "Epoch 31/50\n",
            "17/17 [==============================] - 0s 19ms/step - loss: 0.0028 - accuracy: 0.0000e+00 - val_loss: 0.0045 - val_accuracy: 0.0000e+00\n",
            "\n",
            "Epoch 00031: val_loss did not improve from 0.00422\n",
            "\n",
            "Epoch 00031: ReduceLROnPlateau reducing learning rate to 3.200000264769187e-07.\n",
            "Epoch 32/50\n",
            "17/17 [==============================] - 0s 19ms/step - loss: 0.0028 - accuracy: 0.0000e+00 - val_loss: 0.0045 - val_accuracy: 0.0000e+00\n",
            "\n",
            "Epoch 00032: val_loss did not improve from 0.00422\n",
            "Epoch 33/50\n",
            "17/17 [==============================] - 0s 19ms/step - loss: 0.0028 - accuracy: 0.0000e+00 - val_loss: 0.0045 - val_accuracy: 0.0000e+00\n",
            "\n",
            "Epoch 00033: val_loss did not improve from 0.00422\n",
            "Epoch 34/50\n",
            "17/17 [==============================] - 0s 20ms/step - loss: 0.0028 - accuracy: 0.0000e+00 - val_loss: 0.0045 - val_accuracy: 0.0000e+00\n",
            "\n",
            "Epoch 00034: val_loss did not improve from 0.00422\n",
            "Epoch 35/50\n",
            "17/17 [==============================] - 0s 20ms/step - loss: 0.0028 - accuracy: 0.0000e+00 - val_loss: 0.0045 - val_accuracy: 0.0000e+00\n",
            "\n",
            "Epoch 00035: val_loss did not improve from 0.00422\n",
            "Epoch 36/50\n",
            "17/17 [==============================] - 0s 20ms/step - loss: 0.0028 - accuracy: 0.0000e+00 - val_loss: 0.0045 - val_accuracy: 0.0000e+00\n",
            "\n",
            "Epoch 00036: val_loss did not improve from 0.00422\n",
            "\n",
            "Epoch 00036: ReduceLROnPlateau reducing learning rate to 6.400000529538374e-08.\n",
            "Epoch 37/50\n",
            "17/17 [==============================] - 0s 19ms/step - loss: 0.0028 - accuracy: 0.0000e+00 - val_loss: 0.0045 - val_accuracy: 0.0000e+00\n",
            "\n",
            "Epoch 00037: val_loss did not improve from 0.00422\n",
            "Epoch 38/50\n",
            "17/17 [==============================] - 0s 20ms/step - loss: 0.0028 - accuracy: 0.0000e+00 - val_loss: 0.0045 - val_accuracy: 0.0000e+00\n",
            "\n",
            "Epoch 00038: val_loss did not improve from 0.00422\n",
            "Epoch 39/50\n",
            "17/17 [==============================] - 0s 21ms/step - loss: 0.0028 - accuracy: 0.0000e+00 - val_loss: 0.0045 - val_accuracy: 0.0000e+00\n",
            "\n",
            "Epoch 00039: val_loss did not improve from 0.00422\n",
            "Epoch 40/50\n",
            "17/17 [==============================] - 0s 19ms/step - loss: 0.0028 - accuracy: 0.0000e+00 - val_loss: 0.0045 - val_accuracy: 0.0000e+00\n",
            "\n",
            "Epoch 00040: val_loss did not improve from 0.00422\n",
            "Epoch 41/50\n",
            "17/17 [==============================] - 0s 19ms/step - loss: 0.0028 - accuracy: 0.0000e+00 - val_loss: 0.0045 - val_accuracy: 0.0000e+00\n",
            "\n",
            "Epoch 00041: val_loss did not improve from 0.00422\n",
            "\n",
            "Epoch 00041: ReduceLROnPlateau reducing learning rate to 1.2800001059076749e-08.\n",
            "Epoch 42/50\n",
            "17/17 [==============================] - 0s 20ms/step - loss: 0.0028 - accuracy: 0.0000e+00 - val_loss: 0.0045 - val_accuracy: 0.0000e+00\n",
            "\n",
            "Epoch 00042: val_loss did not improve from 0.00422\n",
            "Epoch 43/50\n",
            "17/17 [==============================] - 0s 19ms/step - loss: 0.0028 - accuracy: 0.0000e+00 - val_loss: 0.0045 - val_accuracy: 0.0000e+00\n",
            "\n",
            "Epoch 00043: val_loss did not improve from 0.00422\n",
            "Epoch 44/50\n",
            "17/17 [==============================] - 0s 20ms/step - loss: 0.0028 - accuracy: 0.0000e+00 - val_loss: 0.0045 - val_accuracy: 0.0000e+00\n",
            "\n",
            "Epoch 00044: val_loss did not improve from 0.00422\n",
            "Epoch 45/50\n",
            "17/17 [==============================] - 0s 20ms/step - loss: 0.0028 - accuracy: 0.0000e+00 - val_loss: 0.0045 - val_accuracy: 0.0000e+00\n",
            "\n",
            "Epoch 00045: val_loss did not improve from 0.00422\n",
            "Epoch 46/50\n",
            "17/17 [==============================] - 0s 18ms/step - loss: 0.0027 - accuracy: 0.0000e+00 - val_loss: 0.0045 - val_accuracy: 0.0000e+00\n",
            "\n",
            "Epoch 00046: val_loss did not improve from 0.00422\n",
            "\n",
            "Epoch 00046: ReduceLROnPlateau reducing learning rate to 2.5600002118153498e-09.\n",
            "Epoch 47/50\n",
            "17/17 [==============================] - 0s 20ms/step - loss: 0.0028 - accuracy: 0.0000e+00 - val_loss: 0.0045 - val_accuracy: 0.0000e+00\n",
            "\n",
            "Epoch 00047: val_loss did not improve from 0.00422\n",
            "Epoch 48/50\n",
            "17/17 [==============================] - 0s 20ms/step - loss: 0.0028 - accuracy: 0.0000e+00 - val_loss: 0.0045 - val_accuracy: 0.0000e+00\n",
            "\n",
            "Epoch 00048: val_loss did not improve from 0.00422\n",
            "Epoch 49/50\n",
            "17/17 [==============================] - 0s 20ms/step - loss: 0.0028 - accuracy: 0.0000e+00 - val_loss: 0.0045 - val_accuracy: 0.0000e+00\n",
            "\n",
            "Epoch 00049: val_loss did not improve from 0.00422\n",
            "Epoch 50/50\n",
            "17/17 [==============================] - 0s 20ms/step - loss: 0.0028 - accuracy: 0.0000e+00 - val_loss: 0.0045 - val_accuracy: 0.0000e+00\n",
            "\n",
            "Epoch 00050: val_loss did not improve from 0.00422\n"
          ]
        },
        {
          "output_type": "execute_result",
          "data": {
            "text/plain": [
              "<keras.callbacks.History at 0x7f324791f590>"
            ]
          },
          "metadata": {},
          "execution_count": 179
        }
      ]
    },
    {
      "cell_type": "code",
      "metadata": {
        "id": "8rXxXmz377RT",
        "colab": {
          "base_uri": "https://localhost:8080/",
          "height": 566
        },
        "outputId": "e77ee7ca-eeb3-4765-fcbb-6bb68f5217a2"
      },
      "source": [
        "pred = model.predict(x_test)\n",
        "\n",
        "fig = plt.figure(facecolor='white', figsize=(20, 10))\n",
        "ax = fig.add_subplot(111)\n",
        "ax.plot(y_test, label='True')\n",
        "ax.plot(pred, label='Prediction')\n",
        "ax.legend()\n",
        "plt.show()"
      ],
      "execution_count": null,
      "outputs": [
        {
          "output_type": "display_data",
          "data": {
            "image/png": "[encoded data removed]",
            "text/plain": [
              "<Figure size 1440x720 with 1 Axes>"
            ]
          },
          "metadata": {}
        }
      ]
    },
    {
      "cell_type": "code",
      "metadata": {
        "id": "D0EcVH3y77Tb"
      },
      "source": [
        ""
      ],
      "execution_count": null,
      "outputs": []
    },
    {
      "cell_type": "code",
      "metadata": {
        "id": "0bsLgAy477Vp"
      },
      "source": [
        ""
      ],
      "execution_count": null,
      "outputs": []
    }
  ]
}